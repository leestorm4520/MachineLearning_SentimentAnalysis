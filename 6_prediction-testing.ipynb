{
 "cells": [
  {
   "cell_type": "markdown",
   "metadata": {},
   "source": [
    "Using : https://www.kaggle.com/shashank1558/preprocessed-twitter-tweets : for testing trained model"
   ]
  },
  {
   "cell_type": "code",
   "execution_count": 1,
   "metadata": {},
   "outputs": [
    {
     "name": "stderr",
     "output_type": "stream",
     "text": [
      "[nltk_data] Downloading package stopwords to\n",
      "[nltk_data]     C:\\Users\\Domin\\AppData\\Roaming\\nltk_data...\n",
      "[nltk_data]   Package stopwords is already up-to-date!\n",
      "[nltk_data] Downloading package wordnet to\n",
      "[nltk_data]     C:\\Users\\Domin\\AppData\\Roaming\\nltk_data...\n",
      "[nltk_data]   Package wordnet is already up-to-date!\n"
     ]
    }
   ],
   "source": [
    "# handle imports\n",
    "import pandas as pd\n",
    "from TweetProcessor import TweetProcessor\n",
    "\n",
    "from gensim.models import Word2Vec\n",
    "from gensim.models import FastText\n",
    "from joblib import load\n",
    "\n",
    "import scipy as sp\n",
    "import numpy as np\n",
    "\n",
    "from sklearn.metrics import accuracy_score"
   ]
  },
  {
   "cell_type": "code",
   "execution_count": 2,
   "metadata": {},
   "outputs": [],
   "source": [
    "# load data sets\n",
    "negatives = pd.read_csv('_resources/tweets/_test-set/negative.csv', names=['content', 'target'])\n",
    "neutrals = pd.read_csv('_resources/tweets/_test-set/neutral.csv', names=['content', 'target'])\n",
    "positives = pd.read_csv('_resources/tweets/_test-set/positive.csv', names=['content', 'target'])"
   ]
  },
  {
   "cell_type": "code",
   "execution_count": 3,
   "metadata": {},
   "outputs": [],
   "source": [
    "# clean tweets\n",
    "negatives['content'] = negatives.apply(lambda row: TweetProcessor.cleanTweet(str(row['content'])), axis=1)\n",
    "neutrals['content'] = neutrals.apply(lambda row: TweetProcessor.cleanTweet(str(row['content'])), axis=1)\n",
    "positives['content'] = positives.apply(lambda row: TweetProcessor.cleanTweet(str(row['content'])), axis=1)"
   ]
  },
  {
   "cell_type": "code",
   "execution_count": 4,
   "metadata": {},
   "outputs": [],
   "source": [
    "# load the fasttext model\n",
    "fasttext_model = FastText.load('_resources/models/fasttext.model')\n",
    "\n",
    "# load the fasttext kmeans model\n",
    "km_model_fasttext = load('_resources/models/km_fasttext.model')"
   ]
  },
  {
   "cell_type": "code",
   "execution_count": 5,
   "metadata": {},
   "outputs": [],
   "source": [
    "# define cluster labels\n",
    "cluster_labels = ['neutral_cluster', 'negative_cluster', 'positive_cluster']\n",
    "\n",
    "tweet_processor = TweetProcessor()\n",
    "\n",
    "# define an analyzing function\n",
    "def analyze_sentiment(tweet):\n",
    "    # phrase the tweet\n",
    "    phrases = tweet_processor.phrase_model[tweet.split()]\n",
    "    \n",
    "    #if no text was provided, default to neutral\n",
    "    if(len(phrases) == 0):\n",
    "        return 1\n",
    "\n",
    "    # predict sentiment using fasttext clusters\n",
    "    fasttext_vector = fasttext_model.wv[phrases]\n",
    "    fasttext_res = km_model_fasttext.predict(fasttext_vector)\n",
    "    fasttext_mode = int(sp.stats.mode(fasttext_res)[0])\n",
    "\n",
    "    # get counts\n",
    "    neu = list(fasttext_res).count(0)\n",
    "    neg = list(fasttext_res).count(1)\n",
    "    pos = list(fasttext_res).count(2)\n",
    "\n",
    "    # if pos == neg result is neutral\n",
    "    if(pos == neg):\n",
    "        return 0\n",
    "\n",
    "    # if neu == (pos || neg) result is (pos || neg)\n",
    "    if(neu == pos and pos > neg):\n",
    "        return 0\n",
    "    if(neu == neg and neg > pos):\n",
    "        return 0\n",
    "\n",
    "    # else result is mode\n",
    "    return fasttext_mode"
   ]
  },
  {
   "cell_type": "code",
   "execution_count": 6,
   "metadata": {},
   "outputs": [
    {
     "name": "stdout",
     "output_type": "stream",
     "text": [
      "accuracy_neutral: 0.16379859783301465, accuracy_negative: 0.10295434198746643, accuracy_positive: 0.8026981450252951\n"
     ]
    }
   ],
   "source": [
    "neg_sentiment = pd.DataFrame(negatives.apply(lambda row: analyze_sentiment(str(row['content'])), axis=1), columns=['prediction'])\n",
    "neg_acc = accuracy_score(negatives['target'], neg_sentiment['prediction'])\n",
    "\n",
    "neu_sentiment = pd.DataFrame(neutrals.apply(lambda row: analyze_sentiment(str(row['content'])), axis=1), columns=['prediction'])\n",
    "neu_acc = accuracy_score(neutrals['target'], neu_sentiment['prediction'])\n",
    "\n",
    "pos_sentiment = pd.DataFrame(positives.apply(lambda row: analyze_sentiment(str(row['content'])), axis=1), columns=['prediction'])\n",
    "pos_acc = accuracy_score(positives['target'], pos_sentiment['prediction'])\n",
    "\n",
    "print(f\"accuracy_neutral: {neu_acc}, accuracy_negative: {neg_acc}, accuracy_positive: {pos_acc}\")"
   ]
  }
 ],
 "metadata": {
  "interpreter": {
   "hash": "15dda4e28581d8d3b2d3def4ccf815a6b3a43b94c45b0a22f4cb86fc665265a1"
  },
  "kernelspec": {
   "display_name": "Python 3.10.0 64-bit",
   "language": "python",
   "name": "python3"
  },
  "language_info": {
   "codemirror_mode": {
    "name": "ipython",
    "version": 3
   },
   "file_extension": ".py",
   "mimetype": "text/x-python",
   "name": "python",
   "nbconvert_exporter": "python",
   "pygments_lexer": "ipython3",
   "version": "3.10.0"
  },
  "orig_nbformat": 4
 },
 "nbformat": 4,
 "nbformat_minor": 2
}
