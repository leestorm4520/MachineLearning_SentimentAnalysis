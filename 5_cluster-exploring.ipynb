{
 "cells": [
  {
   "cell_type": "code",
   "execution_count": 34,
   "metadata": {},
   "outputs": [],
   "source": [
    "# handle imports\n",
    "from gensim.models import Word2Vec\n",
    "from gensim.models import FastText\n",
    "from joblib import dump, load\n",
    "\n",
    "import numpy as np\n",
    "\n",
    "from TweetProcessor import TweetProcessor"
   ]
  },
  {
   "cell_type": "code",
   "execution_count": 35,
   "metadata": {},
   "outputs": [],
   "source": [
    "# load the fasttext model\n",
    "fasttext_model = FastText.load('_resources/models/fasttext.model')\n",
    "\n",
    "# load the fasttext kmeans model\n",
    "km_model_fasttext = load('_resources/models/km_fasttext.model')"
   ]
  },
  {
   "cell_type": "code",
   "execution_count": 36,
   "metadata": {},
   "outputs": [
    {
     "name": "stdout",
     "output_type": "stream",
     "text": [
      "2          positive_cluster\n",
      "\n",
      "im_already                     2          positive_cluster\n",
      "youre_awesome                  2          positive_cluster\n",
      "thats_awesome                  2          positive_cluster\n",
      "know_love                      2          positive_cluster\n",
      "im_way                         2          positive_cluster\n",
      "im_feeling                     2          positive_cluster\n",
      "love_watching                  2          positive_cluster\n",
      "love_playing                   2          positive_cluster\n",
      "im_lucky                       2          positive_cluster\n",
      "love_little                    2          positive_cluster\n",
      "little_thing                   2          positive_cluster\n",
      "yall_much                      2          positive_cluster\n",
      "got_much                       2          positive_cluster\n",
      "youre_amazing                  2          positive_cluster\n",
      "another_amazing                2          positive_cluster\n",
      "really_cool                    2          positive_cluster\n",
      "#ThatJTLife                    2          positive_cluster\n",
      "really_feel                    2          positive_cluster\n",
      "im_really                      2          positive_cluster\n",
      "youre_gonna                    2          positive_cluster\n"
     ]
    }
   ],
   "source": [
    "# pretty variables for the clusters\n",
    "cluster_labels = ['neutral_cluster', 'negative_cluster', 'positive_cluster']\n",
    "\n",
    "vector = km_model_fasttext.cluster_centers_[2]\n",
    "cluster = km_model_fasttext.predict(np.array([vector]))[0]\n",
    "print(cluster, cluster_labels[cluster].rjust(25))\n",
    "print()\n",
    "\n",
    "# explore fasttext kmeans clusters\n",
    "words = fasttext_model.wv.similar_by_vector(vector, topn=20)\n",
    "\n",
    "for word in words:\n",
    "    vector = fasttext_model.wv[word[0]]\n",
    "    cluster = km_model_fasttext.predict(np.array([vector]))[0]\n",
    "    print(word[0].ljust(30), cluster, cluster_labels[cluster].rjust(25))"
   ]
  },
  {
   "cell_type": "code",
   "execution_count": 38,
   "metadata": {},
   "outputs": [
    {
     "name": "stdout",
     "output_type": "stream",
     "text": [
      "im tired man\n",
      "['im_tired', 'man']\n",
      "[2 2] 2 positive_cluster\n"
     ]
    }
   ],
   "source": [
    "import scipy as sp\n",
    "\n",
    "# pretty variables for the clusters\n",
    "cluster_labels = ['neutral_cluster', 'negative_cluster', 'positive_cluster']\n",
    "\n",
    "# create a tweet\n",
    "tweet = 'It really saddens me that Kyle is referred to as a “kid who had to defend himself” by people who had no sympathy for Trayvon, who was walking home, unarmed and un-white.'\n",
    "\n",
    "# create a tweet processor\n",
    "tweet_processor = TweetProcessor()\n",
    "\n",
    "# clean the tweet\n",
    "clean_tweet = TweetProcessor.cleanTweet(tweet)\n",
    "\n",
    "print(clean_tweet)\n",
    "\n",
    "# phrase the tweet\n",
    "phrase = tweet_processor.phrase_model[clean_tweet.split()]\n",
    "\n",
    "print(phrase)\n",
    "\n",
    "# predict sentiment using fasttext clusters\n",
    "fasttext_vector = fasttext_model.wv[phrase]\n",
    "fasttext_res = km_model_fasttext.predict(fasttext_vector)\n",
    "fasttext_mode = int(sp.stats.mode(fasttext_res)[0])\n",
    "print(fasttext_res, fasttext_mode, cluster_labels[fasttext_mode])\n"
   ]
  }
 ],
 "metadata": {
  "interpreter": {
   "hash": "15dda4e28581d8d3b2d3def4ccf815a6b3a43b94c45b0a22f4cb86fc665265a1"
  },
  "kernelspec": {
   "display_name": "Python 3.10.0 64-bit",
   "language": "python",
   "name": "python3"
  },
  "language_info": {
   "codemirror_mode": {
    "name": "ipython",
    "version": 3
   },
   "file_extension": ".py",
   "mimetype": "text/x-python",
   "name": "python",
   "nbconvert_exporter": "python",
   "pygments_lexer": "ipython3",
   "version": "3.10.0"
  },
  "orig_nbformat": 4
 },
 "nbformat": 4,
 "nbformat_minor": 2
}
