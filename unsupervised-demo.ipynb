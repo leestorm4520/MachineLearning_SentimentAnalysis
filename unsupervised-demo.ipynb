{
 "cells": [
  {
   "cell_type": "markdown",
   "metadata": {},
   "source": [
    "Unsupervised Sentiment Analysis on Twitter Posts\n",
    "================================================"
   ]
  },
  {
   "cell_type": "markdown",
   "metadata": {},
   "source": [
    "Process Raw Tweets into cleaned Tweets (13 min Execution Time)\n",
    "--------------------------------------"
   ]
  },
  {
   "cell_type": "code",
   "execution_count": 1,
   "metadata": {},
   "outputs": [
    {
     "name": "stderr",
     "output_type": "stream",
     "text": [
      "[nltk_data] Downloading package stopwords to\n",
      "[nltk_data]     C:\\Users\\Domin\\AppData\\Roaming\\nltk_data...\n",
      "[nltk_data]   Package stopwords is already up-to-date!\n",
      "[nltk_data] Downloading package wordnet to\n",
      "[nltk_data]     C:\\Users\\Domin\\AppData\\Roaming\\nltk_data...\n",
      "[nltk_data]   Package wordnet is already up-to-date!\n"
     ]
    }
   ],
   "source": [
    "# handle imports\n",
    "import pandas as pd\n",
    "from TweetProcessor import TweetProcessor\n",
    "\n",
    "# read in raw tweets from csv\n",
    "raw_tweets = pd.read_csv(\"_resources/tweets/raw_tweets.csv\")\n",
    "\n",
    "# clean all the tweets (computationally expensive)\n",
    "clean_tweets = raw_tweets.apply(lambda row: TweetProcessor.cleanTweet(row['content']), axis=1, result_type='broadcast')\n",
    "\n",
    "# save the clean tweets\n",
    "clean_tweets.to_csv('_resources/tweets/clean_tweets.csv', index=False)"
   ]
  },
  {
   "cell_type": "markdown",
   "metadata": {},
   "source": [
    "Build FastText Model and Kmeans Clustering Model (4 min Execution Time)\n",
    "------------------------------------------------"
   ]
  },
  {
   "cell_type": "code",
   "execution_count": 22,
   "metadata": {},
   "outputs": [
    {
     "name": "stderr",
     "output_type": "stream",
     "text": [
      "C:\\Users\\Domin\\AppData\\Local\\Programs\\Python\\Python310\\lib\\site-packages\\sklearn\\cluster\\_kmeans.py:1149: RuntimeWarning: Explicit initial center position passed: performing only one init in KMeans instead of n_init=10.\n",
      "  self._check_params(X)\n"
     ]
    },
    {
     "data": {
      "text/plain": [
       "['_resources/models/km_fasttext.model']"
      ]
     },
     "execution_count": 22,
     "metadata": {},
     "output_type": "execute_result"
    }
   ],
   "source": [
    "# handle imports\n",
    "import pandas as pd\n",
    "\n",
    "import multiprocessing\n",
    "from gensim.models import FastText\n",
    "from sklearn.cluster import KMeans\n",
    "\n",
    "from joblib import dump, load\n",
    "\n",
    "from TweetProcessor import TweetProcessor\n",
    "\n",
    "# create a TweetProcessor\n",
    "tweet_processor = TweetProcessor()\n",
    "\n",
    "# build fasttext model\n",
    "cpu_count = multiprocessing.cpu_count()\n",
    "\n",
    "fasttext_model = FastText(min_count=10,\n",
    "                     window=4,\n",
    "                     vector_size=50,\n",
    "                     sample=6e-5, \n",
    "                     alpha=0.03, \n",
    "                     min_alpha=0.0007, \n",
    "                     negative=30,\n",
    "                     workers=cpu_count-1)\n",
    "\n",
    "fasttext_model.build_vocab(tweet_processor.phrases)\n",
    "\n",
    "# train the fasttext model\n",
    "fasttext_model.train(tweet_processor.phrases, total_examples=fasttext_model.corpus_count, epochs=30)\n",
    "\n",
    "# define centroids\n",
    "centroids = np.array([fasttext_model.wv.get_vector('happy'), fasttext_model.wv.get_vector('sad'), fasttext_model.wv.get_vector('okay')])\n",
    "\n",
    "# build kmeans model\n",
    "km_model = KMeans(n_clusters=3, max_iter=2000, init=centroids)\n",
    "\n",
    "# train a kmeans model for fasttext vectorization strategy\n",
    "km_model_fasttext = km_model.fit(X=fasttext_model.wv.vectors)\n",
    "\n",
    "# save the fasttext model\n",
    "fasttext_model.save('_resources/models/fasttext.model')\n",
    "\n",
    "# save the kmeans model\n",
    "dump(km_model_fasttext, '_resources/models/km_fasttext.model')"
   ]
  },
  {
   "cell_type": "markdown",
   "metadata": {},
   "source": [
    "Perform Dimensionality Reduction on the Cluster Data (<1 min Execution Time)\n",
    "----------------------------------------------------"
   ]
  },
  {
   "cell_type": "code",
   "execution_count": 27,
   "metadata": {},
   "outputs": [
    {
     "name": "stderr",
     "output_type": "stream",
     "text": [
      "C:\\Users\\Domin\\AppData\\Local\\Programs\\Python\\Python310\\lib\\site-packages\\sklearn\\manifold\\_t_sne.py:780: FutureWarning: The default initialization in TSNE will change from 'random' to 'pca' in 1.2.\n",
      "  warnings.warn(\n",
      "C:\\Users\\Domin\\AppData\\Local\\Programs\\Python\\Python310\\lib\\site-packages\\sklearn\\manifold\\_t_sne.py:790: FutureWarning: The default learning rate in TSNE will change from 200.0 to 'auto' in 1.2.\n",
      "  warnings.warn(\n"
     ]
    }
   ],
   "source": [
    "# handle imports\n",
    "from gensim.models import FastText\n",
    "\n",
    "from joblib import load\n",
    "\n",
    "import numpy as np\n",
    "import pandas as pd\n",
    "\n",
    "from sklearn.decomposition import PCA\n",
    "from sklearn.manifold import TSNE\n",
    "\n",
    "# load the fasttext model\n",
    "fasttext_model = FastText.load('_resources/models/fasttext.model')\n",
    "\n",
    "# load the kmeans model\n",
    "km_model_fasttext = load('_resources/models/km_fasttext.model')\n",
    "\n",
    "# pretty variables for the clusters\n",
    "cluster_labels = ['positive_cluster', 'negative_cluster', 'neutral_cluster']\n",
    "\n",
    "# define a function for getting cluster labels\n",
    "get_cluster_label = np.vectorize(lambda cluster: cluster_labels[cluster])\n",
    "\n",
    "# get cluster labels for the word2vec kmeans model\n",
    "fasttext_clusters = get_cluster_label(km_model_fasttext.predict(fasttext_model.wv.vectors))\n",
    "fasttext_vectors = fasttext_model.wv.vectors\n",
    "\n",
    "# prepare fasttext dataframe for simple plotting\n",
    "fasttext_df = pd.DataFrame(fasttext_vectors)\n",
    "fasttext_df['clusters'] = fasttext_clusters\n",
    "\n",
    "# perform PCA dimensionality reduction on fasttext\n",
    "pca = PCA(n_components=3)\n",
    "fasttext_pca_result = pca.fit_transform(fasttext_vectors)\n",
    "\n",
    "# perform TSNE dimensionality reduction on fasttext\n",
    "tsne = TSNE(n_components=2, perplexity=50, n_iter=300)\n",
    "fasttext_tsne_results = tsne.fit_transform(fasttext_pca_result)\n",
    "\n",
    "# store fasttext PCA results in the dataframe\n",
    "fasttext_df['tsne-2d-one'] = fasttext_tsne_results[:,0]\n",
    "fasttext_df['tsne-2d-two'] = fasttext_tsne_results[:,1]\n",
    "\n",
    "# save the reduced fasttext cluster data\n",
    "fasttext_df.to_csv('_resources/clusters/fasttext_reduced_clusters.csv', index=False)"
   ]
  },
  {
   "cell_type": "markdown",
   "metadata": {},
   "source": [
    "Plot the Clusters using Seaborn (<1 min Execution Time)\n",
    "-------------------------------"
   ]
  },
  {
   "cell_type": "code",
   "execution_count": 28,
   "metadata": {},
   "outputs": [
    {
     "data": {
      "image/png": "[encoded data removed]",
      "text/plain": [
       "<Figure size 432x288 with 1 Axes>"
      ]
     },
     "metadata": {
      "needs_background": "light"
     },
     "output_type": "display_data"
    }
   ],
   "source": [
    "# handle imports\n",
    "import pandas as pd\n",
    "\n",
    "import matplotlib.pyplot as plt\n",
    "import seaborn as sns\n",
    "\n",
    "# load the reduced fasttext cluster data\n",
    "fasttext_df = pd.read_csv('_resources/clusters/fasttext_reduced_clusters.csv')\n",
    "\n",
    "# plot the fasttext clusters\n",
    "sns.scatterplot(\n",
    "    x=\"tsne-2d-one\", y=\"tsne-2d-two\",\n",
    "    hue=\"clusters\",\n",
    "    palette=sns.color_palette(\"hls\", 3),\n",
    "    data=fasttext_df,\n",
    "    legend=\"full\",\n",
    "    alpha=0.3\n",
    ")\n",
    "\n",
    "# give the fasttext subplot a title\n",
    "plt.title('FastText KMeans Clusters')\n",
    "\n",
    "# adjust view\n",
    "plt.xlim([-20, 20])\n",
    "plt.ylim([-20, 20])\n",
    "\n",
    "# save fasttext figure\n",
    "plt.savefig('_resources/clusters/kmeans_clusters.png')"
   ]
  },
  {
   "cell_type": "markdown",
   "metadata": {},
   "source": [
    "Define a Prediction Function and Test on Actual Tweets (<1 min Execution Time)\n",
    "--------------------------------------------------------"
   ]
  },
  {
   "cell_type": "code",
   "execution_count": 30,
   "metadata": {},
   "outputs": [
    {
     "name": "stdout",
     "output_type": "stream",
     "text": [
      "\n",
      "😠 😠 😠 Predicting on Negative Tweets:\n",
      "\n",
      "Tensions rise between Rittenhouse supporters and protestors as the first day of jury deliberations comes to a close without a verdict in Kenosha, WI on 11.16.21\n",
      "negative_cluster negative_cluster \t✔️\n",
      "\n",
      "It really saddens me that Kyle is referred to as a “kid who had to defend himself” by people who had no sympathy for Trayvon, who was walking home, unarmed and un-white.\n",
      "negative_cluster negative_cluster \t✔️\n",
      "\n",
      "this sucks                                                                 \n",
      "positive_cluster negative_cluster \t❌\n",
      "\n",
      "\n",
      "😊 😊 😊 Predicting on Positive Tweets:\n",
      "\n",
      "AHHHHHH @ArianaGrande she is truly the kindest most humble human I’ve met 👑❤️🥰\n",
      "positive_cluster positive_cluster \t✔️\n",
      "\n",
      "When you're happy and in a good place with yourself, with others and life in general, good things tend to happen. 🚀🌙🚀 Dogecoin\n",
      "positive_cluster positive_cluster \t✔️\n",
      "\n",
      "this is cool 😊                                                             \n",
      "positive_cluster positive_cluster \t✔️\n",
      "\n",
      "\n",
      "😐 😐 😐 Predicting on Neutral Tweets:\n",
      "\n",
      "Mr. Jenners planned to move his family to New York.                        \n",
      "negative_cluster neutral_cluster \t❌\n",
      "\n",
      "We're niether happy nor sad to hear that.                                  \n",
      "positive_cluster neutral_cluster \t❌\n",
      "\n",
      "this is fine                                                               \n",
      "negative_cluster neutral_cluster \t❌\n",
      "\n",
      "\n",
      "🇪🇸 🇪🇸 🇪🇸 Predicting on Spanish Tweets (Neutral Cluster? More like Spanish Cluster):\n",
      "\n",
      "Realmente me entristece que Kyle sea referido como un “niño que tuvo que defenderse” por personas que no simpatizaban con Trayvon, quien caminaba a casa, desarmado y no blanco.\n",
      "neutral_cluster neutral_cluster \t✔️\n",
      "\n",
      "Cuando estás feliz y en un buen lugar contigo mismo, con los demás y con la vida en general, tienden a suceder cosas buenas. 🚀🌙🚀 Dogecoin\n",
      "neutral_cluster neutral_cluster \t✔️\n",
      "\n",
      "No estamos felices ni tristes de escuchar eso.                             \n",
      "neutral_cluster neutral_cluster \t✔️\n",
      "\n"
     ]
    }
   ],
   "source": [
    "# handle imports\n",
    "from TweetProcessor import TweetProcessor\n",
    "\n",
    "import scipy as sp\n",
    "\n",
    "# define an analyzing function\n",
    "def analyze_sentiment(tweet):\n",
    "    # phrase the tweet\n",
    "    phrases = tweet_processor.phrase_model[tweet.split()]\n",
    "    \n",
    "    #if no text was provided, default to neutral\n",
    "    if(len(phrases) == 0):\n",
    "        return 1\n",
    "\n",
    "    # predict sentiment using fasttext clusters\n",
    "    fasttext_vector = fasttext_model.wv[phrases]\n",
    "    fasttext_res = km_model_fasttext.predict(fasttext_vector)\n",
    "    fasttext_mode = int(sp.stats.mode(fasttext_res)[0])\n",
    "\n",
    "    # get counts\n",
    "    neu = list(fasttext_res).count(0)\n",
    "    neg = list(fasttext_res).count(1)\n",
    "    pos = list(fasttext_res).count(2)\n",
    "\n",
    "    # if pos == neg result is neutral\n",
    "    if(pos == neg):\n",
    "        return 0\n",
    "\n",
    "    # if neu == (pos || neg) result is (pos || neg)\n",
    "    if(neu == pos and pos > neg):\n",
    "        return 2\n",
    "    if(neu == neg and neg > pos):\n",
    "        return 1\n",
    "\n",
    "    # else result is mode\n",
    "    return fasttext_mode\n",
    "\n",
    "# pretty variables for the clusters\n",
    "cluster_labels = ['positive_cluster', 'negative_cluster', 'neutral_cluster']\n",
    "\n",
    "# get some tweets from twitter\n",
    "tweets = [\n",
    "    'Tensions rise between Rittenhouse supporters and protestors as the first day of jury deliberations comes to a close without a verdict in Kenosha, WI on 11.16.21',\n",
    "    'It really saddens me that Kyle is referred to as a “kid who had to defend himself” by people who had no sympathy for Trayvon, who was walking home, unarmed and un-white.',\n",
    "    'this sucks',\n",
    "    'AHHHHHH @ArianaGrande she is truly the kindest most humble human I’ve met 👑❤️🥰',\n",
    "    'When you\\'re happy and in a good place with yourself, with others and life in general, good things tend to happen. 🚀🌙🚀 Dogecoin',\n",
    "    'this is cool 😊',\n",
    "    'Mr. Jenners planned to move his family to New York.',\n",
    "    'We\\'re niether happy nor sad to hear that.',\n",
    "    'this is fine',\n",
    "    'Realmente me entristece que Kyle sea referido como un “niño que tuvo que defenderse” por personas que no simpatizaban con Trayvon, quien caminaba a casa, desarmado y no blanco.',\n",
    "    'Cuando estás feliz y en un buen lugar contigo mismo, con los demás y con la vida en general, tienden a suceder cosas buenas. 🚀🌙🚀 Dogecoin',\n",
    "    'No estamos felices ni tristes de escuchar eso.'\n",
    "]\n",
    "\n",
    "# define the expected sentiment\n",
    "targets = [\n",
    "    1,\n",
    "    1,\n",
    "    1,\n",
    "    0,\n",
    "    0,\n",
    "    0,\n",
    "    2,\n",
    "    2,\n",
    "    2,\n",
    "    2,\n",
    "    2,\n",
    "    2\n",
    "]\n",
    "\n",
    "# predict and output results for negative tweets\n",
    "print(\"\\n😠 😠 😠 Predicting on Negative Tweets:\\n\")\n",
    "for index, tweet in enumerate(tweets[:3]):\n",
    "    predict = analyze_sentiment(TweetProcessor.cleanTweet(tweet))\n",
    "    target = targets[index]\n",
    "    print(tweet.ljust(75))\n",
    "    print(cluster_labels[predict], cluster_labels[target], ('\\t✔️' if predict == target else '\\t❌'))\n",
    "    print()\n",
    "\n",
    "# predict and output results for positive tweets\n",
    "print(\"\\n😊 😊 😊 Predicting on Positive Tweets:\\n\")\n",
    "for index, tweet in enumerate(tweets[3:6]):\n",
    "    predict = analyze_sentiment(TweetProcessor.cleanTweet(tweet))\n",
    "    target = targets[index + 3]\n",
    "    print(tweet.ljust(75))\n",
    "    print(cluster_labels[predict], cluster_labels[target], ('\\t✔️' if predict == target else '\\t❌'))\n",
    "    print()\n",
    "\n",
    "# predict and output results for neutral tweets\n",
    "print(\"\\n😐 😐 😐 Predicting on Neutral Tweets:\\n\")\n",
    "for index, tweet in enumerate(tweets[6:9]):\n",
    "    predict = analyze_sentiment(TweetProcessor.cleanTweet(tweet))\n",
    "    target = targets[index + 6]\n",
    "    print(tweet.ljust(75))\n",
    "    print(cluster_labels[predict], cluster_labels[target], ('\\t✔️' if predict == target else '\\t❌'))\n",
    "    print()\n",
    "\n",
    "# Demonstrate problem with neutral cluster\n",
    "print(\"\\n🇪🇸 🇪🇸 🇪🇸 Predicting on Spanish Tweets (Neutral Cluster? More like Spanish Cluster):\\n\")\n",
    "for index, tweet in enumerate(tweets[9:]):\n",
    "  predict = analyze_sentiment(TweetProcessor.cleanTweet(tweet))\n",
    "  target = targets[index + 9]\n",
    "  print(tweet.ljust(75))\n",
    "  print(cluster_labels[predict], cluster_labels[target], ('\\t✔️' if predict == target else '\\t❌'))\n",
    "  print()"
   ]
  }
 ],
 "metadata": {
  "interpreter": {
   "hash": "15dda4e28581d8d3b2d3def4ccf815a6b3a43b94c45b0a22f4cb86fc665265a1"
  },
  "kernelspec": {
   "display_name": "Python 3.10.0 64-bit",
   "language": "python",
   "name": "python3"
  },
  "language_info": {
   "codemirror_mode": {
    "name": "ipython",
    "version": 3
   },
   "file_extension": ".py",
   "mimetype": "text/x-python",
   "name": "python",
   "nbconvert_exporter": "python",
   "pygments_lexer": "ipython3",
   "version": "3.10.0"
  },
  "orig_nbformat": 4
 },
 "nbformat": 4,
 "nbformat_minor": 2
}
